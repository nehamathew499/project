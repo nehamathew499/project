{
 "cells": [
  {
   "cell_type": "code",
   "execution_count": 1,
   "metadata": {},
   "outputs": [
    {
     "name": "stdout",
     "output_type": "stream",
     "text": [
      "Defaulting to user installation because normal site-packages is not writeable\n",
      "Collecting pandas\n",
      "  Using cached pandas-2.2.3-cp312-cp312-win_amd64.whl.metadata (19 kB)\n",
      "Collecting matplotlib\n",
      "  Using cached matplotlib-3.9.2-cp312-cp312-win_amd64.whl.metadata (11 kB)\n",
      "Collecting seaborn\n",
      "  Using cached seaborn-0.13.2-py3-none-any.whl.metadata (5.4 kB)\n",
      "Collecting scikit-learn\n",
      "  Using cached scikit_learn-1.5.2-cp312-cp312-win_amd64.whl.metadata (13 kB)\n",
      "Collecting numpy>=1.26.0 (from pandas)\n",
      "  Downloading numpy-2.1.2-cp312-cp312-win_amd64.whl.metadata (59 kB)\n",
      "Requirement already satisfied: python-dateutil>=2.8.2 in c:\\users\\joy\\appdata\\local\\packages\\pythonsoftwarefoundation.python.3.12_qbz5n2kfra8p0\\localcache\\local-packages\\python312\\site-packages (from pandas) (2.9.0.post0)\n",
      "Collecting pytz>=2020.1 (from pandas)\n",
      "  Using cached pytz-2024.2-py2.py3-none-any.whl.metadata (22 kB)\n",
      "Collecting tzdata>=2022.7 (from pandas)\n",
      "  Using cached tzdata-2024.2-py2.py3-none-any.whl.metadata (1.4 kB)\n",
      "Collecting contourpy>=1.0.1 (from matplotlib)\n",
      "  Using cached contourpy-1.3.0-cp312-cp312-win_amd64.whl.metadata (5.4 kB)\n",
      "Collecting cycler>=0.10 (from matplotlib)\n",
      "  Using cached cycler-0.12.1-py3-none-any.whl.metadata (3.8 kB)\n",
      "Collecting fonttools>=4.22.0 (from matplotlib)\n",
      "  Using cached fonttools-4.54.1-cp312-cp312-win_amd64.whl.metadata (167 kB)\n",
      "Collecting kiwisolver>=1.3.1 (from matplotlib)\n",
      "  Using cached kiwisolver-1.4.7-cp312-cp312-win_amd64.whl.metadata (6.4 kB)\n",
      "Requirement already satisfied: packaging>=20.0 in c:\\users\\joy\\appdata\\local\\packages\\pythonsoftwarefoundation.python.3.12_qbz5n2kfra8p0\\localcache\\local-packages\\python312\\site-packages (from matplotlib) (24.1)\n",
      "Collecting pillow>=8 (from matplotlib)\n",
      "  Using cached pillow-10.4.0-cp312-cp312-win_amd64.whl.metadata (9.3 kB)\n",
      "Collecting pyparsing>=2.3.1 (from matplotlib)\n",
      "  Using cached pyparsing-3.1.4-py3-none-any.whl.metadata (5.1 kB)\n",
      "Collecting scipy>=1.6.0 (from scikit-learn)\n",
      "  Using cached scipy-1.14.1-cp312-cp312-win_amd64.whl.metadata (60 kB)\n",
      "Collecting joblib>=1.2.0 (from scikit-learn)\n",
      "  Using cached joblib-1.4.2-py3-none-any.whl.metadata (5.4 kB)\n",
      "Collecting threadpoolctl>=3.1.0 (from scikit-learn)\n",
      "  Using cached threadpoolctl-3.5.0-py3-none-any.whl.metadata (13 kB)\n",
      "Requirement already satisfied: six>=1.5 in c:\\users\\joy\\appdata\\local\\packages\\pythonsoftwarefoundation.python.3.12_qbz5n2kfra8p0\\localcache\\local-packages\\python312\\site-packages (from python-dateutil>=2.8.2->pandas) (1.16.0)\n",
      "Using cached pandas-2.2.3-cp312-cp312-win_amd64.whl (11.5 MB)\n",
      "Using cached matplotlib-3.9.2-cp312-cp312-win_amd64.whl (7.8 MB)\n",
      "Using cached seaborn-0.13.2-py3-none-any.whl (294 kB)\n",
      "Using cached scikit_learn-1.5.2-cp312-cp312-win_amd64.whl (11.0 MB)\n",
      "Using cached contourpy-1.3.0-cp312-cp312-win_amd64.whl (218 kB)\n",
      "Using cached cycler-0.12.1-py3-none-any.whl (8.3 kB)\n",
      "Using cached fonttools-4.54.1-cp312-cp312-win_amd64.whl (2.2 MB)\n",
      "Using cached joblib-1.4.2-py3-none-any.whl (301 kB)\n",
      "Using cached kiwisolver-1.4.7-cp312-cp312-win_amd64.whl (55 kB)\n",
      "Downloading numpy-2.1.2-cp312-cp312-win_amd64.whl (12.6 MB)\n",
      "   ---------------------------------------- 0.0/12.6 MB ? eta -:--:--\n",
      "   ---------------------------------------- 0.0/12.6 MB ? eta -:--:--\n",
      "   ---------------------------------------- 0.0/12.6 MB ? eta -:--:--\n",
      "    --------------------------------------- 0.3/12.6 MB ? eta -:--:--\n",
      "    --------------------------------------- 0.3/12.6 MB ? eta -:--:--\n",
      "   - -------------------------------------- 0.5/12.6 MB 558.9 kB/s eta 0:00:22\n",
      "   - -------------------------------------- 0.5/12.6 MB 558.9 kB/s eta 0:00:22\n",
      "   - -------------------------------------- 0.5/12.6 MB 558.9 kB/s eta 0:00:22\n",
      "   -- ------------------------------------- 0.8/12.6 MB 459.5 kB/s eta 0:00:26\n",
      "   -- ------------------------------------- 0.8/12.6 MB 459.5 kB/s eta 0:00:26\n",
      "   --- ------------------------------------ 1.0/12.6 MB 540.9 kB/s eta 0:00:22\n",
      "   --- ------------------------------------ 1.0/12.6 MB 540.9 kB/s eta 0:00:22\n",
      "   ---- ----------------------------------- 1.3/12.6 MB 563.8 kB/s eta 0:00:20\n",
      "   ---- ----------------------------------- 1.3/12.6 MB 563.8 kB/s eta 0:00:20\n",
      "   ----- ---------------------------------- 1.6/12.6 MB 562.8 kB/s eta 0:00:20\n",
      "   ----- ---------------------------------- 1.6/12.6 MB 562.8 kB/s eta 0:00:20\n",
      "   ----- ---------------------------------- 1.8/12.6 MB 559.1 kB/s eta 0:00:20\n",
      "   ----- ---------------------------------- 1.8/12.6 MB 559.1 kB/s eta 0:00:20\n",
      "   ------ --------------------------------- 2.1/12.6 MB 581.2 kB/s eta 0:00:19\n",
      "   ------ --------------------------------- 2.1/12.6 MB 581.2 kB/s eta 0:00:19\n",
      "   ------- -------------------------------- 2.4/12.6 MB 578.5 kB/s eta 0:00:18\n",
      "   ------- -------------------------------- 2.4/12.6 MB 578.5 kB/s eta 0:00:18\n",
      "   -------- ------------------------------- 2.6/12.6 MB 603.9 kB/s eta 0:00:17\n",
      "   --------- ------------------------------ 2.9/12.6 MB 630.6 kB/s eta 0:00:16\n",
      "   ---------- ----------------------------- 3.1/12.6 MB 663.8 kB/s eta 0:00:15\n",
      "   ---------- ----------------------------- 3.4/12.6 MB 680.2 kB/s eta 0:00:14\n",
      "   ----------- ---------------------------- 3.7/12.6 MB 696.8 kB/s eta 0:00:13\n",
      "   ----------- ---------------------------- 3.7/12.6 MB 696.8 kB/s eta 0:00:13\n",
      "   ----------- ---------------------------- 3.7/12.6 MB 696.8 kB/s eta 0:00:13\n",
      "   ----------- ---------------------------- 3.7/12.6 MB 696.8 kB/s eta 0:00:13\n",
      "   ----------- ---------------------------- 3.7/12.6 MB 696.8 kB/s eta 0:00:13\n",
      "   ----------- ---------------------------- 3.7/12.6 MB 696.8 kB/s eta 0:00:13\n",
      "   ----------- ---------------------------- 3.7/12.6 MB 696.8 kB/s eta 0:00:13\n",
      "   ------------ --------------------------- 3.9/12.6 MB 574.2 kB/s eta 0:00:16\n",
      "   ------------ --------------------------- 3.9/12.6 MB 574.2 kB/s eta 0:00:16\n",
      "   ------------- -------------------------- 4.2/12.6 MB 586.5 kB/s eta 0:00:15\n",
      "   -------------- ------------------------- 4.5/12.6 MB 601.9 kB/s eta 0:00:14\n",
      "   --------------- ------------------------ 4.7/12.6 MB 618.6 kB/s eta 0:00:13\n",
      "   --------------- ------------------------ 4.7/12.6 MB 618.6 kB/s eta 0:00:13\n",
      "   --------------- ------------------------ 4.7/12.6 MB 618.6 kB/s eta 0:00:13\n",
      "   --------------- ------------------------ 5.0/12.6 MB 606.3 kB/s eta 0:00:13\n",
      "   --------------- ------------------------ 5.0/12.6 MB 606.3 kB/s eta 0:00:13\n",
      "   --------------- ------------------------ 5.0/12.6 MB 606.3 kB/s eta 0:00:13\n",
      "   ---------------- ----------------------- 5.2/12.6 MB 588.1 kB/s eta 0:00:13\n",
      "   ---------------- ----------------------- 5.2/12.6 MB 588.1 kB/s eta 0:00:13\n",
      "   ---------------- ----------------------- 5.2/12.6 MB 588.1 kB/s eta 0:00:13\n",
      "   ----------------- ---------------------- 5.5/12.6 MB 575.5 kB/s eta 0:00:13\n",
      "   ------------------ --------------------- 5.8/12.6 MB 591.1 kB/s eta 0:00:12\n",
      "   ------------------- -------------------- 6.0/12.6 MB 604.1 kB/s eta 0:00:11\n",
      "   ------------------- -------------------- 6.0/12.6 MB 604.1 kB/s eta 0:00:11\n",
      "   ------------------- -------------------- 6.0/12.6 MB 604.1 kB/s eta 0:00:11\n",
      "   -------------------- ------------------- 6.3/12.6 MB 598.2 kB/s eta 0:00:11\n",
      "   -------------------- ------------------- 6.3/12.6 MB 598.2 kB/s eta 0:00:11\n",
      "   -------------------- ------------------- 6.6/12.6 MB 597.4 kB/s eta 0:00:11\n",
      "   --------------------- ------------------ 6.8/12.6 MB 607.8 kB/s eta 0:00:10\n",
      "   ---------------------- ----------------- 7.1/12.6 MB 617.8 kB/s eta 0:00:09\n",
      "   ---------------------- ----------------- 7.1/12.6 MB 617.8 kB/s eta 0:00:09\n",
      "   ----------------------- ---------------- 7.3/12.6 MB 620.5 kB/s eta 0:00:09\n",
      "   ----------------------- ---------------- 7.3/12.6 MB 620.5 kB/s eta 0:00:09\n",
      "   ------------------------ --------------- 7.6/12.6 MB 624.7 kB/s eta 0:00:08\n",
      "   ------------------------- -------------- 7.9/12.6 MB 636.0 kB/s eta 0:00:08\n",
      "   ------------------------- -------------- 8.1/12.6 MB 646.1 kB/s eta 0:00:07\n",
      "   -------------------------- ------------- 8.4/12.6 MB 655.0 kB/s eta 0:00:07\n",
      "   --------------------------- ------------ 8.7/12.6 MB 666.1 kB/s eta 0:00:06\n",
      "   ---------------------------- ----------- 8.9/12.6 MB 671.1 kB/s eta 0:00:06\n",
      "   ---------------------------- ----------- 8.9/12.6 MB 671.1 kB/s eta 0:00:06\n",
      "   ----------------------------- ---------- 9.2/12.6 MB 677.4 kB/s eta 0:00:06\n",
      "   ------------------------------ --------- 9.4/12.6 MB 686.0 kB/s eta 0:00:05\n",
      "   ------------------------------ --------- 9.7/12.6 MB 689.4 kB/s eta 0:00:05\n",
      "   ------------------------------- -------- 10.0/12.6 MB 695.9 kB/s eta 0:00:04\n",
      "   ------------------------------- -------- 10.0/12.6 MB 695.9 kB/s eta 0:00:04\n",
      "   -------------------------------- ------- 10.2/12.6 MB 698.3 kB/s eta 0:00:04\n",
      "   --------------------------------- ------ 10.5/12.6 MB 705.1 kB/s eta 0:00:03\n",
      "   --------------------------------- ------ 10.5/12.6 MB 705.1 kB/s eta 0:00:03\n",
      "   ---------------------------------- ----- 10.7/12.6 MB 707.1 kB/s eta 0:00:03\n",
      "   ----------------------------------- ---- 11.0/12.6 MB 713.5 kB/s eta 0:00:03\n",
      "   ----------------------------------- ---- 11.3/12.6 MB 717.5 kB/s eta 0:00:02\n",
      "   ------------------------------------ --- 11.5/12.6 MB 720.7 kB/s eta 0:00:02\n",
      "   ------------------------------------ --- 11.5/12.6 MB 720.7 kB/s eta 0:00:02\n",
      "   ------------------------------------- -- 11.8/12.6 MB 720.2 kB/s eta 0:00:02\n",
      "   ------------------------------------- -- 11.8/12.6 MB 720.2 kB/s eta 0:00:02\n",
      "   -------------------------------------- - 12.1/12.6 MB 722.4 kB/s eta 0:00:01\n",
      "   ---------------------------------------  12.3/12.6 MB 723.3 kB/s eta 0:00:01\n",
      "   ---------------------------------------  12.3/12.6 MB 723.3 kB/s eta 0:00:01\n",
      "   ---------------------------------------- 12.6/12.6 MB 726.5 kB/s eta 0:00:00\n",
      "Using cached pillow-10.4.0-cp312-cp312-win_amd64.whl (2.6 MB)\n",
      "Using cached pyparsing-3.1.4-py3-none-any.whl (104 kB)\n",
      "Using cached pytz-2024.2-py2.py3-none-any.whl (508 kB)\n",
      "Using cached scipy-1.14.1-cp312-cp312-win_amd64.whl (44.5 MB)\n",
      "Using cached threadpoolctl-3.5.0-py3-none-any.whl (18 kB)\n",
      "Using cached tzdata-2024.2-py2.py3-none-any.whl (346 kB)\n",
      "Installing collected packages: pytz, tzdata, threadpoolctl, pyparsing, pillow, numpy, kiwisolver, joblib, fonttools, cycler, scipy, pandas, contourpy, scikit-learn, matplotlib, seaborn\n",
      "Successfully installed contourpy-1.3.0 cycler-0.12.1 fonttools-4.54.1 joblib-1.4.2 kiwisolver-1.4.7 matplotlib-3.9.2 numpy-2.1.2 pandas-2.2.3 pillow-10.4.0 pyparsing-3.1.4 pytz-2024.2 scikit-learn-1.5.2 scipy-1.14.1 seaborn-0.13.2 threadpoolctl-3.5.0 tzdata-2024.2\n",
      "Note: you may need to restart the kernel to use updated packages.\n"
     ]
    }
   ],
   "source": [
    "pip install pandas matplotlib seaborn scikit-learn\n"
   ]
  },
  {
   "cell_type": "code",
   "execution_count": 1,
   "metadata": {},
   "outputs": [],
   "source": [
    "import pandas as pd\n",
    "import numpy as np\n",
    "import matplotlib.pyplot as plt \n",
    "import seaborn as sns"
   ]
  },
  {
   "cell_type": "code",
   "execution_count": 10,
   "metadata": {},
   "outputs": [],
   "source": [
    "data=pd.read_csv(r'C:\\Users\\JOY\\Downloads\\Finance_data.csv',delimiter=';')"
   ]
  },
  {
   "cell_type": "code",
   "execution_count": 13,
   "metadata": {},
   "outputs": [
    {
     "data": {
      "text/html": [
       "<div>\n",
       "<style scoped>\n",
       "    .dataframe tbody tr th:only-of-type {\n",
       "        vertical-align: middle;\n",
       "    }\n",
       "\n",
       "    .dataframe tbody tr th {\n",
       "        vertical-align: top;\n",
       "    }\n",
       "\n",
       "    .dataframe thead th {\n",
       "        text-align: right;\n",
       "    }\n",
       "</style>\n",
       "<table border=\"1\" class=\"dataframe\">\n",
       "  <thead>\n",
       "    <tr style=\"text-align: right;\">\n",
       "      <th></th>\n",
       "      <th>gender,age,Investment_Avenues,Mutual_Funds,Equity_Market,Debentures,Government_Bonds,Fixed_Deposits,PPF,Gold,Stock_Marktet,Factor,Objective,Purpose,Duration,Invest_Monitor,Expect,Avenue,What are your savings objectives?,Reason_Equity,Reason_Mutual,Reason_Bonds,Reason_FD,Source</th>\n",
       "    </tr>\n",
       "  </thead>\n",
       "  <tbody>\n",
       "    <tr>\n",
       "      <th>0</th>\n",
       "      <td>Female,34,Yes,1,2,5,3,7,6,4,Yes,Returns,Capita...</td>\n",
       "    </tr>\n",
       "    <tr>\n",
       "      <th>1</th>\n",
       "      <td>Female,23,Yes,4,3,2,1,5,6,7,No,Locking Period,...</td>\n",
       "    </tr>\n",
       "    <tr>\n",
       "      <th>2</th>\n",
       "      <td>Male,30,Yes,3,6,4,2,5,1,7,Yes,Returns,Capital ...</td>\n",
       "    </tr>\n",
       "    <tr>\n",
       "      <th>3</th>\n",
       "      <td>Male,22,Yes,2,1,3,7,6,4,5,Yes,Returns,Income,W...</td>\n",
       "    </tr>\n",
       "    <tr>\n",
       "      <th>4</th>\n",
       "      <td>Female,24,No,2,1,3,6,4,5,7,No,Returns,Income,W...</td>\n",
       "    </tr>\n",
       "  </tbody>\n",
       "</table>\n",
       "</div>"
      ],
      "text/plain": [
       "  gender,age,Investment_Avenues,Mutual_Funds,Equity_Market,Debentures,Government_Bonds,Fixed_Deposits,PPF,Gold,Stock_Marktet,Factor,Objective,Purpose,Duration,Invest_Monitor,Expect,Avenue,What are your savings objectives?,Reason_Equity,Reason_Mutual,Reason_Bonds,Reason_FD,Source\n",
       "0  Female,34,Yes,1,2,5,3,7,6,4,Yes,Returns,Capita...                                                                                                                                                                                                                                   \n",
       "1  Female,23,Yes,4,3,2,1,5,6,7,No,Locking Period,...                                                                                                                                                                                                                                   \n",
       "2  Male,30,Yes,3,6,4,2,5,1,7,Yes,Returns,Capital ...                                                                                                                                                                                                                                   \n",
       "3  Male,22,Yes,2,1,3,7,6,4,5,Yes,Returns,Income,W...                                                                                                                                                                                                                                   \n",
       "4  Female,24,No,2,1,3,6,4,5,7,No,Returns,Income,W...                                                                                                                                                                                                                                   "
      ]
     },
     "execution_count": 13,
     "metadata": {},
     "output_type": "execute_result"
    }
   ],
   "source": [
    "data.head()"
   ]
  },
  {
   "cell_type": "code",
   "execution_count": 7,
   "metadata": {},
   "outputs": [
    {
     "data": {
      "text/plain": [
       "gender                               0\n",
       "age                                  0\n",
       "Investment_Avenues                   0\n",
       "Mutual_Funds                         0\n",
       "Equity_Market                        0\n",
       "Debentures                           0\n",
       "Government_Bonds                     0\n",
       "Fixed_Deposits                       0\n",
       "PPF                                  0\n",
       "Gold                                 0\n",
       "Stock_Marktet                        0\n",
       "Factor                               0\n",
       "Objective                            0\n",
       "Purpose                              0\n",
       "Duration                             0\n",
       "Invest_Monitor                       0\n",
       "Expect                               0\n",
       "Avenue                               0\n",
       "What are your savings objectives?    0\n",
       "Reason_Equity                        0\n",
       "Reason_Mutual                        0\n",
       "Reason_Bonds                         0\n",
       "Reason_FD                            0\n",
       "Source                               0\n",
       "dtype: int64"
      ]
     },
     "execution_count": 7,
     "metadata": {},
     "output_type": "execute_result"
    }
   ],
   "source": [
    "data.isnull().sum()"
   ]
  },
  {
   "cell_type": "code",
   "execution_count": 8,
   "metadata": {},
   "outputs": [],
   "source": [
    "data=data.drop_duplicates()"
   ]
  },
  {
   "cell_type": "code",
   "execution_count": 11,
   "metadata": {},
   "outputs": [
    {
     "data": {
      "text/plain": [
       "gender,age,Investment_Avenues,Mutual_Funds,Equity_Market,Debentures,Government_Bonds,Fixed_Deposits,PPF,Gold,Stock_Marktet,Factor,Objective,Purpose,Duration,Invest_Monitor,Expect,Avenue,What are your savings objectives?,Reason_Equity,Reason_Mutual,Reason_Bonds,Reason_FD,Source    object\n",
       "dtype: object"
      ]
     },
     "execution_count": 11,
     "metadata": {},
     "output_type": "execute_result"
    }
   ],
   "source": [
    "data.dtypes"
   ]
  },
  {
   "cell_type": "code",
   "execution_count": 12,
   "metadata": {},
   "outputs": [
    {
     "name": "stdout",
     "output_type": "stream",
     "text": [
      "Index(['gender,age,Investment_Avenues,Mutual_Funds,Equity_Market,Debentures,Government_Bonds,Fixed_Deposits,PPF,Gold,Stock_Marktet,Factor,Objective,Purpose,Duration,Invest_Monitor,Expect,Avenue,What are your savings objectives?,Reason_Equity,Reason_Mutual,Reason_Bonds,Reason_FD,Source'], dtype='object')\n"
     ]
    }
   ],
   "source": [
    "print(data.columns)"
   ]
  },
  {
   "cell_type": "code",
   "execution_count": 16,
   "metadata": {},
   "outputs": [
    {
     "name": "stdout",
     "output_type": "stream",
     "text": [
      "Original column names:\n",
      "Index(['gender', 'age', 'Investment_Avenues', 'Mutual_Funds', 'Equity_Market',\n",
      "       'Debentures', 'Government_Bonds', 'Fixed_Deposits', 'PPF', 'Gold',\n",
      "       'Stock_Marktet', 'Factor', 'Objective', 'Purpose', 'Duration',\n",
      "       'Invest_Monitor', 'Expect', 'Avenue',\n",
      "       'What are your savings objectives?', 'Reason_Equity', 'Reason_Mutual',\n",
      "       'Reason_Bonds', 'Reason_FD', 'Source'],\n",
      "      dtype='object')\n",
      "Cleaned column names:\n",
      "Index(['gender', 'age', 'Investment_Avenues', 'Mutual_Funds', 'Equity_Market',\n",
      "       'Debentures', 'Government_Bonds', 'Fixed_Deposits', 'PPF', 'Gold',\n",
      "       'Stock_Marktet', 'Factor', 'Objective', 'Purpose', 'Duration',\n",
      "       'Invest_Monitor', 'Expect', 'Avenue',\n",
      "       'What are your savings objectives?', 'Reason_Equity', 'Reason_Mutual',\n",
      "       'Reason_Bonds', 'Reason_FD', 'Source'],\n",
      "      dtype='object')\n",
      "Data Preview:\n",
      "   gender  age Investment_Avenues  Mutual_Funds  Equity_Market  Debentures  \\\n",
      "0  Female   34                Yes             1              2           5   \n",
      "1  Female   23                Yes             4              3           2   \n",
      "2    Male   30                Yes             3              6           4   \n",
      "3    Male   22                Yes             2              1           3   \n",
      "4  Female   24                 No             2              1           3   \n",
      "\n",
      "   Government_Bonds  Fixed_Deposits  PPF  Gold  ...           Duration  \\\n",
      "0                 3               7    6     4  ...          1-3 years   \n",
      "1                 1               5    6     7  ...  More than 5 years   \n",
      "2                 2               5    1     7  ...          3-5 years   \n",
      "3                 7               6    4     5  ...   Less than 1 year   \n",
      "4                 6               4    5     7  ...   Less than 1 year   \n",
      "\n",
      "  Invest_Monitor   Expect       Avenue What are your savings objectives?  \\\n",
      "0        Monthly  20%-30%  Mutual Fund                   Retirement Plan   \n",
      "1         Weekly  20%-30%  Mutual Fund                       Health Care   \n",
      "2          Daily  20%-30%       Equity                   Retirement Plan   \n",
      "3          Daily  10%-20%       Equity                   Retirement Plan   \n",
      "4          Daily  20%-30%       Equity                   Retirement Plan   \n",
      "\n",
      "          Reason_Equity         Reason_Mutual     Reason_Bonds  \\\n",
      "0  Capital Appreciation        Better Returns  Safe Investment   \n",
      "1              Dividend        Better Returns  Safe Investment   \n",
      "2  Capital Appreciation          Tax Benefits  Assured Returns   \n",
      "3              Dividend  Fund Diversification   Tax Incentives   \n",
      "4  Capital Appreciation        Better Returns  Safe Investment   \n",
      "\n",
      "             Reason_FD                    Source  \n",
      "0        Fixed Returns  Newspapers and Magazines  \n",
      "1  High Interest Rates     Financial Consultants  \n",
      "2        Fixed Returns                Television  \n",
      "3  High Interest Rates                  Internet  \n",
      "4            Risk Free                  Internet  \n",
      "\n",
      "[5 rows x 24 columns]\n",
      "gender  Investment_Avenues\n",
      "Female  Yes                   12\n",
      "        No                     3\n",
      "Male    Yes                   25\n",
      "Name: count, dtype: int64\n"
     ]
    }
   ],
   "source": [
    "import pandas as pd\n",
    "\n",
    "# Load the data with the correct delimiter\n",
    "data = pd.read_csv(r'C:\\Users\\JOY\\Downloads\\Finance_data.csv', delimiter=',')\n",
    "\n",
    "# Check the original column names\n",
    "print(\"Original column names:\")\n",
    "print(data.columns)\n",
    "\n",
    "# Clean column names to remove leading/trailing spaces\n",
    "data.columns = data.columns.str.strip()\n",
    "\n",
    "# Check the cleaned column names\n",
    "print(\"Cleaned column names:\")\n",
    "print(data.columns)\n",
    "\n",
    "# Check the first few rows of the data\n",
    "print(\"Data Preview:\")\n",
    "print(data.head())\n",
    "\n",
    "# Now, attempt to group by 'gender' and count 'Investment_Avenues'\n",
    "try:\n",
    "    # Verify that the columns exist\n",
    "    if 'gender' in data.columns and 'Investment_Avenues' in data.columns:\n",
    "        gender_investment = data.groupby('gender')['Investment_Avenues'].value_counts()\n",
    "        print(gender_investment)\n",
    "    else:\n",
    "        print(\"Columns 'gender' or 'Investment_Avenues' do not exist in the DataFrame.\")\n",
    "except KeyError as e:\n",
    "    print(f\"KeyError: {e}. Please check the column names.\")\n"
   ]
  },
  {
   "cell_type": "code",
   "execution_count": 17,
   "metadata": {},
   "outputs": [
    {
     "name": "stdout",
     "output_type": "stream",
     "text": [
      "age  Investment_Avenues\n",
      "21   No                    1\n",
      "     Yes                   1\n",
      "22   Yes                   1\n",
      "23   Yes                   1\n",
      "24   No                    2\n",
      "     Yes                   1\n",
      "25   Yes                   3\n",
      "26   Yes                   4\n",
      "27   Yes                   7\n",
      "28   Yes                   2\n",
      "29   Yes                   5\n",
      "30   Yes                   3\n",
      "31   Yes                   4\n",
      "32   Yes                   1\n",
      "34   Yes                   2\n",
      "35   Yes                   2\n",
      "Name: count, dtype: int64\n"
     ]
    }
   ],
   "source": [
    "age_investment = data.groupby('age')['Investment_Avenues'].value_counts()\n",
    "print(age_investment)\n"
   ]
  },
  {
   "cell_type": "code",
   "execution_count": 18,
   "metadata": {},
   "outputs": [
    {
     "name": "stdout",
     "output_type": "stream",
     "text": [
      "Factor\n",
      "Returns           25\n",
      "Risk              14\n",
      "Locking Period     1\n",
      "Name: count, dtype: int64\n"
     ]
    }
   ],
   "source": [
    "factor_influence = data['Factor'].value_counts()\n",
    "print(factor_influence)\n"
   ]
  },
  {
   "cell_type": "code",
   "execution_count": 19,
   "metadata": {},
   "outputs": [
    {
     "name": "stdout",
     "output_type": "stream",
     "text": [
      "Duration\n",
      "3-5 years            19\n",
      "1-3 years            18\n",
      "Less than 1 year      2\n",
      "More than 5 years     1\n",
      "Name: count, dtype: int64\n"
     ]
    }
   ],
   "source": [
    "duration_dist = data['Duration'].value_counts()\n",
    "print(duration_dist)\n"
   ]
  },
  {
   "cell_type": "code",
   "execution_count": 20,
   "metadata": {},
   "outputs": [
    {
     "name": "stdout",
     "output_type": "stream",
     "text": [
      "                  Mutual_Funds  Equity_Market  Debentures  Government_Bonds  \\\n",
      "Mutual_Funds          1.000000       0.332043   -0.351495         -0.114198   \n",
      "Equity_Market         0.332043       1.000000   -0.016898         -0.237420   \n",
      "Debentures           -0.351495      -0.016898    1.000000          0.430323   \n",
      "Government_Bonds     -0.114198      -0.237420    0.430323          1.000000   \n",
      "Fixed_Deposits       -0.031604      -0.238705   -0.470791         -0.531359   \n",
      "\n",
      "                  Fixed_Deposits  \n",
      "Mutual_Funds           -0.031604  \n",
      "Equity_Market          -0.238705  \n",
      "Debentures             -0.470791  \n",
      "Government_Bonds       -0.531359  \n",
      "Fixed_Deposits          1.000000  \n"
     ]
    }
   ],
   "source": [
    "investment_corr = data[['Mutual_Funds', 'Equity_Market', 'Debentures', 'Government_Bonds', 'Fixed_Deposits']].corr()\n",
    "print(investment_corr)\n"
   ]
  },
  {
   "cell_type": "code",
   "execution_count": 22,
   "metadata": {},
   "outputs": [
    {
     "name": "stdout",
     "output_type": "stream",
     "text": [
      "Cleaned column names:\n",
      "['gender', 'age', 'Investment_Avenues', 'Mutual_Funds', 'Equity_Market', 'Debentures', 'Government_Bonds', 'Fixed_Deposits', 'PPF', 'Gold', 'Stock_Marktet', 'Factor', 'Objective', 'Purpose', 'Duration', 'Invest_Monitor', 'Expect', 'Avenue', 'What are your savings objectives?', 'Reason_Equity', 'Reason_Mutual', 'Reason_Bonds', 'Reason_FD', 'Source']\n",
      "Data Preview:\n",
      "   gender  age Investment_Avenues  Mutual_Funds  Equity_Market  Debentures  \\\n",
      "0  Female   34                Yes             1              2           5   \n",
      "1  Female   23                Yes             4              3           2   \n",
      "2    Male   30                Yes             3              6           4   \n",
      "3    Male   22                Yes             2              1           3   \n",
      "4  Female   24                 No             2              1           3   \n",
      "\n",
      "   Government_Bonds  Fixed_Deposits  PPF  Gold  ...           Duration  \\\n",
      "0                 3               7    6     4  ...          1-3 years   \n",
      "1                 1               5    6     7  ...  More than 5 years   \n",
      "2                 2               5    1     7  ...          3-5 years   \n",
      "3                 7               6    4     5  ...   Less than 1 year   \n",
      "4                 6               4    5     7  ...   Less than 1 year   \n",
      "\n",
      "  Invest_Monitor   Expect       Avenue What are your savings objectives?  \\\n",
      "0        Monthly  20%-30%  Mutual Fund                   Retirement Plan   \n",
      "1         Weekly  20%-30%  Mutual Fund                       Health Care   \n",
      "2          Daily  20%-30%       Equity                   Retirement Plan   \n",
      "3          Daily  10%-20%       Equity                   Retirement Plan   \n",
      "4          Daily  20%-30%       Equity                   Retirement Plan   \n",
      "\n",
      "          Reason_Equity         Reason_Mutual     Reason_Bonds  \\\n",
      "0  Capital Appreciation        Better Returns  Safe Investment   \n",
      "1              Dividend        Better Returns  Safe Investment   \n",
      "2  Capital Appreciation          Tax Benefits  Assured Returns   \n",
      "3              Dividend  Fund Diversification   Tax Incentives   \n",
      "4  Capital Appreciation        Better Returns  Safe Investment   \n",
      "\n",
      "             Reason_FD                    Source  \n",
      "0        Fixed Returns  Newspapers and Magazines  \n",
      "1  High Interest Rates     Financial Consultants  \n",
      "2        Fixed Returns                Television  \n",
      "3  High Interest Rates                  Internet  \n",
      "4            Risk Free                  Internet  \n",
      "\n",
      "[5 rows x 24 columns]\n",
      "Column 'Savings_Objective' does not exist in the DataFrame.\n"
     ]
    }
   ],
   "source": [
    "import pandas as pd\n",
    "\n",
    "# Load the data with the correct delimiter\n",
    "data = pd.read_csv(r'C:\\Users\\JOY\\Downloads\\Finance_data.csv', delimiter=',')\n",
    "\n",
    "# Clean column names to remove leading/trailing spaces\n",
    "data.columns = data.columns.str.strip()\n",
    "\n",
    "# Print the cleaned column names\n",
    "print(\"Cleaned column names:\")\n",
    "print(data.columns.tolist())  # Convert to list for easier readability\n",
    "\n",
    "# Check the first few rows of the data\n",
    "print(\"Data Preview:\")\n",
    "print(data.head())\n",
    "\n",
    "# Now, attempt to access 'Savings_Objective' safely\n",
    "try:\n",
    "    # Check if 'Savings_Objective' is in the columns\n",
    "    if 'Savings_Objective' in data.columns:\n",
    "        savings_objectives = data['Savings_Objective'].value_counts()\n",
    "        print(savings_objectives)\n",
    "    else:\n",
    "        print(\"Column 'Savings_Objective' does not exist in the DataFrame.\")\n",
    "except KeyError as e:\n",
    "    print(f\"KeyError: {e}. Please check the column names.\")\n",
    "\n"
   ]
  },
  {
   "cell_type": "code",
   "execution_count": 23,
   "metadata": {},
   "outputs": [
    {
     "data": {
      "text/plain": [
       "<Axes: xlabel='gender,Investment_Avenues'>"
      ]
     },
     "execution_count": 23,
     "metadata": {},
     "output_type": "execute_result"
    },
    {
     "data": {
      "image/png": "[encoded data removed]",
      "text/plain": [
       "<Figure size 640x480 with 1 Axes>"
      ]
     },
     "metadata": {},
     "output_type": "display_data"
    }
   ],
   "source": [
    "data.groupby('gender')['Investment_Avenues'].value_counts().plot(kind='bar')\n"
   ]
  },
  {
   "cell_type": "code",
   "execution_count": 24,
   "metadata": {},
   "outputs": [
    {
     "data": {
      "text/plain": [
       "<Axes: >"
      ]
     },
     "execution_count": 24,
     "metadata": {},
     "output_type": "execute_result"
    },
    {
     "data": {
      "image/png": "[encoded data removed]",
      "text/plain": [
       "<Figure size 640x480 with 1 Axes>"
      ]
     },
     "metadata": {},
     "output_type": "display_data"
    }
   ],
   "source": [
    "data['age'].hist()\n"
   ]
  },
  {
   "cell_type": "code",
   "execution_count": 25,
   "metadata": {},
   "outputs": [
    {
     "data": {
      "text/plain": [
       "<Axes: ylabel='count'>"
      ]
     },
     "execution_count": 25,
     "metadata": {},
     "output_type": "execute_result"
    },
    {
     "data": {
      "image/png": "[encoded data removed]",
      "text/plain": [
       "<Figure size 640x480 with 1 Axes>"
      ]
     },
     "metadata": {},
     "output_type": "display_data"
    }
   ],
   "source": [
    "data['Duration'].value_counts().plot(kind='pie')\n"
   ]
  }
 ],
 "metadata": {
  "kernelspec": {
   "display_name": "Python 3",
   "language": "python",
   "name": "python3"
  },
  "language_info": {
   "codemirror_mode": {
    "name": "ipython",
    "version": 3
   },
   "file_extension": ".py",
   "mimetype": "text/x-python",
   "name": "python",
   "nbconvert_exporter": "python",
   "pygments_lexer": "ipython3",
   "version": "3.12.7"
  }
 },
 "nbformat": 4,
 "nbformat_minor": 2
}
